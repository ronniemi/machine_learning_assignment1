{
  "cells": [
    {
      "metadata": {
        "_uuid": "8f2839f25d086af736a60e9eeb907d3b93b6e0e5",
        "_cell_guid": "b1076dfc-b9ad-4769-8c92-a6c4dae69d19",
        "trusted": true
      },
      "cell_type": "code",
      "source": "# This Python 3 environment comes with many helpful analytics libraries installed\n# It is defined by the kaggle/python docker image: https://github.com/kaggle/docker-python\n# For example, here's several helpful packages to load in \n\nimport numpy as np # linear algebra\nimport pandas as pd # data processing, CSV file I/O (e.g. pd.read_csv)\nfrom sklearn.ensemble import RandomForestClassifier\nfrom sklearn.preprocessing import LabelEncoder\nfrom collections import defaultdict\n\n# Input data files are available in the \"../input/\" directory.\n# For example, running this (by clicking run or pressing Shift+Enter) will list the files in the input directory\n\nimport os\nprint(os.listdir(\"../input\"))\n\n# Any results you write to the current directory are saved as output.",
      "execution_count": null,
      "outputs": []
    },
    {
      "metadata": {
        "trusted": true,
        "_uuid": "e3e72b235cab1a1bf82e1032da40e5ddca217a10"
      },
      "cell_type": "code",
      "source": "train_set = pd.read_csv('../input/saftey_efficay_myopiaTrain.csv')\ntest_set = pd.read_csv('../input/saftey_efficay_myopiaTest.csv')",
      "execution_count": null,
      "outputs": []
    },
    {
      "metadata": {
        "trusted": true,
        "_uuid": "8a2cecd544a10f5e841547e57eab1041800613ac"
      },
      "cell_type": "code",
      "source": "train_set = train_set.dropna(how='all')",
      "execution_count": null,
      "outputs": []
    },
    {
      "metadata": {
        "trusted": true,
        "_uuid": "1d5d1a1c67f5efe93a6e76e050cefe225f721a1b"
      },
      "cell_type": "code",
      "source": "catigorial_columns = ['D_L_Sex', 'D_L_Eye', \n                      'D_L_Dominant_Eye', 'Pre_L_Contact_Lens', \n                      'T_L_Laser_Type', 'T_L_Treatment_Type', \n                      'T_L_Cust._Ablation', 'T_L_Micro', 'T_L_Head', \n                      'T_L_Therapeutic_Cont._L.', 'T_L_Epith._Rep.', 'Class']\nnumeric_columns = train_set.columns[~train_set.columns.isin(catigorial_columns)]",
      "execution_count": null,
      "outputs": []
    },
    {
      "metadata": {
        "trusted": true,
        "_uuid": "3308c6e6ec4cc10d7f53b45146d3703c2691c717"
      },
      "cell_type": "code",
      "source": "train_set = train_set.apply(lambda x: x.replace([' ', '', 'NaN', 'nan', 'None'], np.nan))\ntest_set = train_set.apply(lambda x: x.replace([' ', '', 'NaN', 'nan', 'None'], np.nan))",
      "execution_count": null,
      "outputs": []
    },
    {
      "metadata": {
        "trusted": true,
        "_uuid": "bfcccd8e5944a5cc6dcc005a3157da68422f1530"
      },
      "cell_type": "code",
      "source": "# preprocess-fillna for catiforial values using madien values\ndict = defaultdict(LabelEncoder)\n    \nfor col_name in catigorial_columns:\n    train_set[col_name].fillna(train_set[col_name].value_counts().index[0], inplace=True)\n    if col_name != 'Class':\n        test_set[col_name].fillna(train_set[col_name].value_counts().index[0], inplace=True)\n\nfor col_name in catigorial_columns:\n    train_set[col_name] = dict[col_name].fit_transform(train_set[col_name])\n    if col_name != 'Class':\n        test_set[col_name] = dict[col_name].fit_transform(test_set[col_name])\n",
      "execution_count": null,
      "outputs": []
    },
    {
      "metadata": {
        "trusted": true,
        "_uuid": "aeb52b383b9e873a2e07629113bab68f7c4e0a0f"
      },
      "cell_type": "code",
      "source": "# preprocess-fillna for numeric values using mean values\n\nfor col_name in numeric_columns:\n    train_set[col_name].fillna(train_set[col_name].mean(), inplace=True)\n    test_set[col_name].fillna(train_set[col_name].mean(), inplace=True)",
      "execution_count": null,
      "outputs": []
    },
    {
      "metadata": {
        "trusted": true,
        "scrolled": true,
        "_uuid": "d9100aea8e39aea44c7f6cf64ed564c7abaa0416"
      },
      "cell_type": "code",
      "source": "train_set.loc[:,catigorial_columns].isna().sum()",
      "execution_count": null,
      "outputs": []
    },
    {
      "metadata": {
        "trusted": true,
        "_uuid": "cda3b20c7579117d2cc011d7b906bad8d2ce18f1"
      },
      "cell_type": "code",
      "source": "    x_train = train_set.iloc[:, :-1]\n    y_train = train_set.iloc[:, -1]",
      "execution_count": null,
      "outputs": []
    },
    {
      "metadata": {
        "trusted": true,
        "_uuid": "eec9209212c7a37f561df99ea4025918b4ed7272"
      },
      "cell_type": "code",
      "source": "rf_model = RandomForestClassifier(n_estimators=100, max_depth=5)\nrf_model.fit(x_train, y_train)",
      "execution_count": null,
      "outputs": []
    },
    {
      "metadata": {
        "trusted": true,
        "_uuid": "5deaf9194c2c12e1b72b8a2ae6f5cb727316c21f"
      },
      "cell_type": "code",
      "source": "pred = rf_model.predict(x_train)",
      "execution_count": null,
      "outputs": []
    },
    {
      "metadata": {
        "trusted": true,
        "_uuid": "5f6199f68370a9bd1ce3d2854d37f28565e54757"
      },
      "cell_type": "code",
      "source": "rf_score = sum(i == 0 for i in (pred-y_train))/len(pred)\nprint(rf_score)",
      "execution_count": null,
      "outputs": []
    },
    {
      "metadata": {
        "trusted": true,
        "_uuid": "c386bd901f653d5032ee2ee7109187c0921ddfb0"
      },
      "cell_type": "code",
      "source": "",
      "execution_count": null,
      "outputs": []
    }
  ],
  "metadata": {
    "kernelspec": {
      "display_name": "Python 3",
      "language": "python",
      "name": "python3"
    },
    "language_info": {
      "name": "python",
      "version": "3.6.6",
      "mimetype": "text/x-python",
      "codemirror_mode": {
        "name": "ipython",
        "version": 3
      },
      "pygments_lexer": "ipython3",
      "nbconvert_exporter": "python",
      "file_extension": ".py"
    }
  },
  "nbformat": 4,
  "nbformat_minor": 1
}