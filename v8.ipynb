{
  "cells": [
    {
      "metadata": {
        "_uuid": "8f2839f25d086af736a60e9eeb907d3b93b6e0e5",
        "_cell_guid": "b1076dfc-b9ad-4769-8c92-a6c4dae69d19",
        "trusted": true
      },
      "cell_type": "code",
      "source": "# This Python 3 environment comes with many helpful analytics libraries installed\n# It is defined by the kaggle/python docker image: https://github.com/kaggle/docker-python\n# For example, here's several helpful packages to load in \n\nimport numpy as np # linear algebra\nimport pandas as pd # data processing, CSV file I/O (e.g. pd.read_csv)\nfrom sklearn.ensemble import RandomForestClassifier\nfrom sklearn.preprocessing import LabelEncoder\nfrom collections import defaultdict\nfrom sklearn.model_selection import train_test_split\nfrom imblearn.over_sampling import SMOTE\nfrom sklearn.metrics import confusion_matrix\nfrom sklearn.metrics import roc_curve, auc\nimport matplotlib.pyplot as plt\nfrom sklearn import svm\nimport xgboost as xgb\n\n# Input data files are available in the \"../input/\" directory.\n# For example, running this (by clicking run or pressing Shift+Enter) will list the files in the input directory\n\nimport os\nprint(os.listdir(\"../input\"))\n\n# Any results you write to the current directory are saved as output.",
      "execution_count": null,
      "outputs": []
    },
    {
      "metadata": {
        "trusted": true,
        "_uuid": "e3e72b235cab1a1bf82e1032da40e5ddca217a10"
      },
      "cell_type": "code",
      "source": "train_set = pd.read_csv('../input/saftey_efficay_myopiaTrain.csv')\ntest_set = pd.read_csv('../input/saftey_efficay_myopiaTest.csv')\nsamples_set = pd.read_csv('../input/saftey_efficay_myopiaSample.csv')",
      "execution_count": null,
      "outputs": []
    },
    {
      "metadata": {
        "trusted": true,
        "_uuid": "8a2cecd544a10f5e841547e57eab1041800613ac"
      },
      "cell_type": "code",
      "source": "train_set = train_set.dropna(how='all')",
      "execution_count": null,
      "outputs": []
    },
    {
      "metadata": {
        "trusted": true,
        "_uuid": "1d5d1a1c67f5efe93a6e76e050cefe225f721a1b"
      },
      "cell_type": "code",
      "source": "catigorial_columns = ['D_L_Sex', 'D_L_Eye', \n                      'D_L_Dominant_Eye', 'Pre_L_Contact_Lens', \n                      'T_L_Laser_Type', 'T_L_Treatment_Type', \n                      'T_L_Cust._Ablation', 'T_L_Micro', 'T_L_Head', \n                      'T_L_Therapeutic_Cont._L.', 'T_L_Epith._Rep.', 'Class']\nnumeric_columns = train_set.columns[~train_set.columns.isin(catigorial_columns)]",
      "execution_count": null,
      "outputs": []
    },
    {
      "metadata": {
        "trusted": true,
        "_uuid": "89c50e320b0ebda5f9d748324ce2db4b5f2b5659"
      },
      "cell_type": "code",
      "source": "train_set = train_set.apply(lambda x: x.replace([' ', '', 'NaN', 'nan', 'None', np.nan], 'None'))\ntest_set = test_set.apply(lambda x: x.replace([' ', '', 'NaN', 'nan', 'None', np.nan], 'None'))",
      "execution_count": null,
      "outputs": []
    },
    {
      "metadata": {
        "trusted": true,
        "_uuid": "19dbd7c0bc75fe74a9469b492b68d9fd50512c24"
      },
      "cell_type": "code",
      "source": "le = LabelEncoder()\n\nfor col_name in catigorial_columns:\n    ### fit with the desired col, col in position 0 for this example\n    fit_by = pd.Series([i for i in train_set.iloc[:,col_name].unique() if type(i) == str])\n\n    le.fit(fit_by)\n\n    ### Set transformed col leaving np.NaN as they are\n    train_set[col_name] = fit_by.apply(lambda x: le.transform([x])[0] if type(x) == str else x)",
      "execution_count": null,
      "outputs": []
    },
    {
      "metadata": {
        "trusted": true,
        "_uuid": "3308c6e6ec4cc10d7f53b45146d3703c2691c717"
      },
      "cell_type": "code",
      "source": "train_set = train_set.apply(lambda x: x.replace([' ', '', 'NaN', 'nan', 'None'], np.nan))\ntest_set = test_set.apply(lambda x: x.replace([' ', '', 'NaN', 'nan', 'None'], np.nan))",
      "execution_count": null,
      "outputs": []
    },
    {
      "metadata": {
        "trusted": true,
        "_uuid": "8f79c748230ebe1b07c5c7397cc937dee1b71942"
      },
      "cell_type": "code",
      "source": "dict = defaultdict(LabelEncoder)\nfor col_name in catigorial_columns:\n    train_set[col_name] = dict[col_name].fit_transform(train_set[col_name])",
      "execution_count": null,
      "outputs": []
    },
    {
      "metadata": {
        "trusted": true,
        "_uuid": "bfcccd8e5944a5cc6dcc005a3157da68422f1530"
      },
      "cell_type": "code",
      "source": "# preprocess-fillna for catigorial values using madien values\ndict = defaultdict(LabelEncoder)\n    \nfor col_name in catigorial_columns:\n    train_set[col_name].fillna(train_set[col_name].value_counts().index[0], inplace=True)\n    if col_name != 'Class':\n        test_set[col_name].fillna(train_set[col_name].value_counts().index[0], inplace=True)\n\nfor col_name in catigorial_columns:\n    train_set[col_name] = dict[col_name].fit_transform(train_set[col_name])\n    if col_name != 'Class':\n        test_set[col_name] = dict[col_name].fit_transform(test_set[col_name])",
      "execution_count": null,
      "outputs": []
    },
    {
      "metadata": {
        "trusted": true,
        "_uuid": "aeb52b383b9e873a2e07629113bab68f7c4e0a0f"
      },
      "cell_type": "code",
      "source": "# preprocess-fillna for numeric values using mean values\n\nfor col_name in numeric_columns:\n    train_set[col_name].fillna(train_set[col_name].mean(), inplace=True)\n    test_set[col_name].fillna(train_set[col_name].mean(), inplace=True)",
      "execution_count": null,
      "outputs": []
    },
    {
      "metadata": {
        "trusted": true,
        "_uuid": "cda3b20c7579117d2cc011d7b906bad8d2ce18f1"
      },
      "cell_type": "code",
      "source": "x_train = train_set.iloc[:, :-1]\ny_train = train_set.iloc[:, -1]",
      "execution_count": null,
      "outputs": []
    },
    {
      "metadata": {
        "trusted": true,
        "_uuid": "f31a13005fe5c8b8dff54af89855aa4e470a1851"
      },
      "cell_type": "code",
      "source": "x_train, x_test, y_train, y_test = train_test_split(x_train, y_train, test_size=0.2, random_state=0)",
      "execution_count": null,
      "outputs": []
    },
    {
      "metadata": {
        "trusted": true,
        "_uuid": "be5c831330e47df70bcb069b40e23d6a5925a579"
      },
      "cell_type": "code",
      "source": "oversampler = SMOTE(random_state=0)\nos_x, os_y = oversampler.fit_sample(x_train, y_train)",
      "execution_count": null,
      "outputs": []
    },
    {
      "metadata": {
        "trusted": true,
        "_uuid": "d2360274081eae729ac8f0d964a1a6c91d6a389d"
      },
      "cell_type": "code",
      "source": "def eval_auc(y_test, pred):\n    false_positive_rate, true_positive_rate, thresholds = roc_curve(y_test, pred)\n    roc_auc = auc(false_positive_rate, true_positive_rate)\n    print(roc_auc)\n    plt.plot(false_positive_rate, true_positive_rate, 'b', label='AUC = %0.2f'% roc_auc)\n    plt.legend(loc='lower right')\n    plt.plot([0,1],[0,1],'r--')\n    plt.xlim([-0.1,1.2])\n    plt.ylim([-0.1,1.2])\n    plt.ylabel('True Positive Rate')\n    plt.xlabel('False Positive Rate')",
      "execution_count": null,
      "outputs": []
    },
    {
      "metadata": {
        "trusted": true,
        "_uuid": "27914a5561af3cbae5cf5b46c4a18c120c6314e1"
      },
      "cell_type": "code",
      "source": "# RANDOM FOREST",
      "execution_count": null,
      "outputs": []
    },
    {
      "metadata": {
        "trusted": true,
        "_uuid": "eec9209212c7a37f561df99ea4025918b4ed7272"
      },
      "cell_type": "code",
      "source": "rf_model = RandomForestClassifier(n_estimators=100, random_state=0)\nrf_model.fit(os_x, os_y)",
      "execution_count": null,
      "outputs": []
    },
    {
      "metadata": {
        "trusted": true,
        "_uuid": "5deaf9194c2c12e1b72b8a2ae6f5cb727316c21f"
      },
      "cell_type": "code",
      "source": "pred = rf_model.predict(x_test)",
      "execution_count": null,
      "outputs": []
    },
    {
      "metadata": {
        "trusted": true,
        "_uuid": "31dbcb30cdcd9c4ba88ed2712923e895ddb284d6"
      },
      "cell_type": "code",
      "source": "eval_auc(y_test, pred)",
      "execution_count": null,
      "outputs": []
    },
    {
      "metadata": {
        "trusted": true,
        "_uuid": "8aab6d7ec476f58332142fa9a6872ad0e1e001a8"
      },
      "cell_type": "code",
      "source": "# SVM",
      "execution_count": null,
      "outputs": []
    },
    {
      "metadata": {
        "trusted": true,
        "_uuid": "dac0342f3536780e3a1bec58f04ce819703fcdc7"
      },
      "cell_type": "code",
      "source": "svm_model = svm.SVC(kernel='linear', class_weight={0:1, 1:60}, random_state=0)\nsvm_model.fit(x_train, y_train)",
      "execution_count": null,
      "outputs": []
    },
    {
      "metadata": {
        "trusted": true,
        "_uuid": "c3e838a4a136b359989894560bdd69d6f679ae8b"
      },
      "cell_type": "code",
      "source": "svm_pred = svm_model.predict(x_test)",
      "execution_count": null,
      "outputs": []
    },
    {
      "metadata": {
        "trusted": true,
        "_uuid": "ba3f14dc5229e9f3cfe00d7e2aa9239bf8b0aa18"
      },
      "cell_type": "code",
      "source": "eval_auc(y_test, svm_pred)",
      "execution_count": null,
      "outputs": []
    },
    {
      "metadata": {
        "trusted": true,
        "_uuid": "064b24a15d2e48a1e93c0710413d0b3cd443a25a"
      },
      "cell_type": "code",
      "source": "# XGBOOST",
      "execution_count": null,
      "outputs": []
    },
    {
      "metadata": {
        "trusted": true,
        "_uuid": "2fe16a615edb3af336f2ec193cab07e414d68512"
      },
      "cell_type": "code",
      "source": "xgb_model = XGBRegressor(n_estimators=1000, learning_rate=0.05, max_depth=8) #objective= 'binary:logistic'\n\nxgb_model.fit(x_train, y_train, verbose=True, early_stopping_rounds=100,\n             eval_set=[(x_test, y_test)])",
      "execution_count": null,
      "outputs": []
    },
    {
      "metadata": {
        "trusted": true,
        "_uuid": "96ac128e5047b54582e4ef26909dabce13f61e55"
      },
      "cell_type": "code",
      "source": "xgb_pred = xgb_model.predict(x_test)",
      "execution_count": null,
      "outputs": []
    },
    {
      "metadata": {
        "trusted": true,
        "_uuid": "f5d5f21eea307ee3c085804cfefc15fb2488bc9f"
      },
      "cell_type": "code",
      "source": "xgb_pred",
      "execution_count": null,
      "outputs": []
    },
    {
      "metadata": {
        "trusted": true,
        "_uuid": "187a2475cfbd5ffdb0724e81b9eed03499907a31"
      },
      "cell_type": "code",
      "source": "xgb_pred[xgb_pred > 0.5] = 1\nxgb_pred[xgb_pred <= 0.5] = 0",
      "execution_count": null,
      "outputs": []
    },
    {
      "metadata": {
        "trusted": true,
        "_uuid": "b458dd34944a8f48e1639850dad405baaed3334b",
        "_kg_hide-output": true,
        "scrolled": true
      },
      "cell_type": "code",
      "source": "eval_auc(y_test, xgb_pred)",
      "execution_count": null,
      "outputs": []
    },
    {
      "metadata": {
        "trusted": true,
        "_uuid": "7969ad3b2f249256b344e14c88a8a92c16fa3c54"
      },
      "cell_type": "code",
      "source": "sample_submmision = pd.DataFrame()\nsample_submmision['Id'] = x_test.index + 1\nsample_submmision['Class'] = xgb_pred\nsample_submmision.sort_values(by=['Id'], inplace=True)",
      "execution_count": null,
      "outputs": []
    },
    {
      "metadata": {
        "trusted": true,
        "_uuid": "b034d2197ce2c55aa8d4174d426ebc2087a005e5"
      },
      "cell_type": "code",
      "source": "dtrain = xgb.DMatrix(x_train, label=y_train, missing=np.nan)\ndval = xgb.DMatrix(x_test,label=y_test, missing=np.nan)\n\nwatchlist = [('val',dval),('train',dtrain)]\n\nparams = {\n    'eta':0.03,\n    'objective':'binary:logistic',\n    'subsample':0.5,\n    'colsample_bytree':0.8,\n    'scale_pos_weight' :0.016,\n    'base_score' : 0.7\n}\n\nnum_round = 10\nxgb_model = xgb.train(params, dtrain, num_round, watchlist)\n",
      "execution_count": null,
      "outputs": []
    },
    {
      "metadata": {
        "trusted": true,
        "_uuid": "8d6b8c291e7a4eae2ee5b6857807ac8fd7c625ae"
      },
      "cell_type": "code",
      "source": "",
      "execution_count": null,
      "outputs": []
    }
  ],
  "metadata": {
    "kernelspec": {
      "display_name": "Python 3",
      "language": "python",
      "name": "python3"
    },
    "language_info": {
      "name": "python",
      "version": "3.6.6",
      "mimetype": "text/x-python",
      "codemirror_mode": {
        "name": "ipython",
        "version": 3
      },
      "pygments_lexer": "ipython3",
      "nbconvert_exporter": "python",
      "file_extension": ".py"
    }
  },
  "nbformat": 4,
  "nbformat_minor": 1
}